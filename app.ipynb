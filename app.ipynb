{
 "cells": [
  {
   "cell_type": "code",
   "execution_count": null,
   "metadata": {},
   "outputs": [],
   "source": [
    "# Q1. What is Statistics?\n",
    "\"\"\"statistics is the science of collecting ,organizing and analysing data \"\"\"\n",
    "\n"
   ]
  },
  {
   "cell_type": "code",
   "execution_count": null,
   "metadata": {},
   "outputs": [],
   "source": [
    "# Q2. Define the different types of statistics and give an example of when each type might be used.\n",
    "\"\"\"there are two type of statistics (a)descriptive statistics (b)inferenatial statistics\n",
    "descriptive statistics - give information about data like central tendency(mean ,median,mode ) and dispersion tendency\n",
    "(variance and standard deviation) distibution of data(histogram ,pdf ,cdf)\n",
    "\n",
    "\n",
    "inferantial statistics= reading the sample data and using the information make prediction about \n",
    "the poupulation data  (z test ,t test ,p value ) \"\"\"\n"
   ]
  },
  {
   "cell_type": "code",
   "execution_count": null,
   "metadata": {},
   "outputs": [],
   "source": [
    "# Q3. What are the different types of data and how do they differ from each other? Provide an example of\n",
    "# each type of data.\n",
    "\n",
    "'''the diffrent type of data is qualitative data and the quantitative data \n",
    "--------------->quantitative -the data has numerical value \n",
    "                        (a)continiuos (age  ,temp, weight )\n",
    "                        (b)discrete  eg=(population ,no of planets,no of children in a family)\n",
    "--------------->qualtitative data - the data has non numerical value\n",
    "                        (a)nominal data = the dat has no hierarchy or ranking (colors,blood group , )\n",
    "                        (b)ordinal data = the dat has ranking( marks column with (\"good\", \"better\", \"best\"))'''\n",
    "\n",
    "\n",
    "\n"
   ]
  },
  {
   "cell_type": "code",
   "execution_count": null,
   "metadata": {},
   "outputs": [],
   "source": [
    "\"\"\"Q4. Categorise the following datasets with respect to quantitative and qualitative data types:\n",
    "(i) Grading in exam: A+, A, B+, B, C+, C, D,  =(qualtitative,ordinal)\n",
    "(ii) Colour of mangoes: yellow, green, orange, red=(wualtitative ,normal)\n",
    "(iii) Height data of a class: [178.9, 179, 179.5, 176, 177.2, 178.3, 175.8,...]=(quantitative , continious )\n",
    "(iv) Number of mangoes exported by a farm: [500, 600, 478, 672, ...]=(quantitatjive , discrete)\"\"\""
   ]
  },
  {
   "cell_type": "code",
   "execution_count": null,
   "metadata": {},
   "outputs": [],
   "source": [
    "# Q5. Explain the concept of levels of measurement and give an example of a variable for each level.\n",
    "\n",
    "\"\"\"nominal scale data= qulatitavite or categoriical data eg = gender ,color   order does not matter \n",
    "\n",
    "    ordinl scale data = ranking is important , order matters , diffrence cannot be measured,compraisions can be done \n",
    "      (good,better , best )\n",
    "\n",
    "    interval scale data = the order matters diffrence can be measured ratio can not be measured ,  diffrences \n",
    "    can be measured , ratio does not reflect the change of value \n",
    "\n",
    "    ratio scale of data = order matters , ratio is valid  example =(marks  in the class , )\n",
    "\n",
    "    \n",
    "                        \"\"\""
   ]
  },
  {
   "cell_type": "code",
   "execution_count": null,
   "metadata": {},
   "outputs": [],
   "source": [
    "# Q6. Why is it important to understand the level of measurement when analyzing data? Provide an\n",
    "# example to illustrate your answer.\n",
    "\"\"\" understanding  the level of measurement tells of  statistical analyses that can be performed on the data. \n",
    "Different levels of measurement require different statistical techniques and models for appropriate analysis.\n",
    "if a researcher wants to compare the gdp of india with other countries, ensure that the gpp data\n",
    " is measured at the ratio level. If income is measured at the nominal or ordinal level \n",
    " t-test and other parameters will give wrong result. \"\"\"\n",
    "\n",
    "\n",
    "\n",
    "\n"
   ]
  },
  {
   "cell_type": "code",
   "execution_count": null,
   "metadata": {},
   "outputs": [],
   "source": [
    "# Q7. How nominal data type is different from ordinal data type.\n",
    "\n",
    "# \"\"\"nominal -------------------------------ordinal\"\"\"\n",
    "# no order----------------------------------ordered\n",
    "# no comparisions---------------------------comparsions can be done\n",
    "# class representation----------------------ranking representation"
   ]
  },
  {
   "cell_type": "code",
   "execution_count": null,
   "metadata": {},
   "outputs": [],
   "source": [
    "# Q8. Which type of plot can be used to display data in terms of range?\n",
    "\n",
    "# box plot"
   ]
  },
  {
   "cell_type": "code",
   "execution_count": null,
   "metadata": {},
   "outputs": [],
   "source": [
    "# Q9. Describe the difference between descriptive and inferential statistics. Give an example of each\n",
    "# type of statistics and explain how they are used.\n",
    "\n",
    "\"\"\" ans- descriptive statistics- descriptive statistics is used for the finding the central tendency and the level of \n",
    "dispersion as well as as well as the distribution of the data .suppose we have marks of class we can find about the average \n",
    "students , weak student , and the brilliant student \"\"\"\n",
    "\n",
    "\n",
    "'''inferential statistics is used for infering about the total poupulation from the sample data , after election the exit poll\n",
    "predict about the win and the loss  of a seat by using the inferantial statistics'''"
   ]
  },
  {
   "cell_type": "code",
   "execution_count": null,
   "metadata": {},
   "outputs": [],
   "source": [
    "# Q10. What are some common measures of central tendency and variability used in statistics? Explain\n",
    "# how each measure can be used to describe a dataset.\n",
    "\n",
    "\"\"\"central tendency(mean, mediam , mode ) mean = it is used for finding the average of data \n",
    "median = if there are outliers are or not it can be found by comparing the mean and the mode \n",
    "mode = it gives about the frequncy of data \"\"\""
   ]
  }
 ],
 "metadata": {
  "kernelspec": {
   "display_name": "Python 3",
   "language": "python",
   "name": "python3"
  },
  "language_info": {
   "name": "python",
   "version": "3.11.2"
  },
  "orig_nbformat": 4
 },
 "nbformat": 4,
 "nbformat_minor": 2
}
